{
  "nbformat": 4,
  "nbformat_minor": 0,
  "metadata": {
    "colab": {
      "provenance": []
    },
    "kernelspec": {
      "name": "python3",
      "display_name": "Python 3"
    },
    "language_info": {
      "name": "python"
    }
  },
  "cells": [
    {
      "cell_type": "code",
      "source": [
        "import nltk\n",
        "from nltk.tokenize import word_tokenize\n",
        "from nltk import pos_tag\n",
        "nltk.download('punkt_tab')\n",
        "nltk.download('averaged_perceptron_tagger_eng')\n",
        "text = \"I am learning NLP\"\n",
        "tokens = word_tokenize(text)\n",
        "print(tokens)\n",
        "tags = pos_tag(tokens)\n",
        "print(tags)"
      ],
      "metadata": {
        "id": "_TSWkFoecUQ1",
        "colab": {
          "base_uri": "https://localhost:8080/"
        },
        "outputId": "9f30814e-2bfb-41e5-aca0-6cb9ce5e3406"
      },
      "execution_count": null,
      "outputs": [
        {
          "output_type": "stream",
          "name": "stderr",
          "text": [
            "[nltk_data] Downloading package punkt_tab to /root/nltk_data...\n",
            "[nltk_data]   Package punkt_tab is already up-to-date!\n",
            "[nltk_data] Downloading package averaged_perceptron_tagger_eng to\n",
            "[nltk_data]     /root/nltk_data...\n",
            "[nltk_data]   Unzipping taggers/averaged_perceptron_tagger_eng.zip.\n"
          ]
        },
        {
          "output_type": "stream",
          "name": "stdout",
          "text": [
            "['I', 'am', 'learning', 'NLP']\n",
            "[('I', 'PRP'), ('am', 'VBP'), ('learning', 'VBG'), ('NLP', 'NNP')]\n"
          ]
        }
      ]
    },
    {
      "cell_type": "code",
      "source": [
        "import nltk\n",
        "nltk.download('universal_tagset')\n",
        "nltk.download('punkt')\n",
        "nltk.download('treebank')\n",
        "nltk.download('tagsets_json')\n",
        "a= nltk.help.upenn_tagset\n",
        "print(a)"
      ],
      "metadata": {
        "colab": {
          "base_uri": "https://localhost:8080/"
        },
        "id": "arEPxA6BjjSi",
        "outputId": "78f78506-5c0b-4bc1-93bc-74953386642d"
      },
      "execution_count": null,
      "outputs": [
        {
          "output_type": "stream",
          "name": "stderr",
          "text": [
            "[nltk_data] Downloading package universal_tagset to /root/nltk_data...\n",
            "[nltk_data]   Unzipping taggers/universal_tagset.zip.\n",
            "[nltk_data] Downloading package punkt to /root/nltk_data...\n",
            "[nltk_data]   Package punkt is already up-to-date!\n",
            "[nltk_data] Downloading package treebank to /root/nltk_data...\n",
            "[nltk_data]   Unzipping corpora/treebank.zip.\n",
            "[nltk_data] Downloading package tagsets_json to /root/nltk_data...\n"
          ]
        },
        {
          "output_type": "stream",
          "name": "stdout",
          "text": [
            "<function upenn_tagset at 0x7aa53ff583a0>\n"
          ]
        },
        {
          "output_type": "stream",
          "name": "stderr",
          "text": [
            "[nltk_data]   Unzipping help/tagsets_json.zip.\n"
          ]
        }
      ]
    },
    {
      "cell_type": "code",
      "source": [
        "treebank_tags=nltk.corpus.treebank.tagged_sents()\n",
        "unique_tags=set(tag for sent in treebank_tags for token,tag in sent)\n",
        "print(unique_tags)\n",
        "print(len(unique_tags))\n",
        "for tag in unique_tags:\n",
        "  print(nltk.help.upenn_tagset(tag))\n",
        "  #nltk.help.upenn_tagset('universal')\n"
      ],
      "metadata": {
        "colab": {
          "base_uri": "https://localhost:8080/"
        },
        "id": "IWCsTU1_ko_B",
        "outputId": "50a3065c-3c8c-4747-dcf8-73ee214ecb39"
      },
      "execution_count": null,
      "outputs": [
        {
          "output_type": "stream",
          "name": "stdout",
          "text": [
            "{'-NONE-', 'JJR', ',', 'JJS', 'PDT', 'WP$', 'CC', '#', 'TO', '-RRB-', 'FW', '-LRB-', 'VBP', 'RBS', 'LS', 'POS', 'WRB', 'WP', 'VBG', 'VBZ', '.', 'PRP$', '$', 'VBN', 'WDT', 'MD', 'NNP', 'PRP', 'RBR', 'RP', 'CD', 'IN', 'VB', 'NNS', 'RB', 'NNPS', '``', 'JJ', 'VBD', \"''\", 'UH', 'SYM', 'EX', 'DT', 'NN', ':'}\n",
            "46\n",
            "No matching tags found.\n",
            "None\n",
            "JJR: adjective, comparative\n",
            "    bleaker braver breezier briefer brighter brisker broader bumper busier\n",
            "    calmer cheaper choosier cleaner clearer closer colder commoner costlier\n",
            "    cozier creamier crunchier cuter ...\n",
            "None\n",
            ",: comma\n",
            "    ,\n",
            "None\n",
            "JJS: adjective, superlative\n",
            "    calmest cheapest choicest classiest cleanest clearest closest commonest\n",
            "    corniest costliest crassest creepiest crudest cutest darkest deadliest\n",
            "    dearest deepest densest dinkiest ...\n",
            "None\n",
            "PDT: pre-determiner\n",
            "    all both half many quite such sure this\n",
            "None\n",
            "WP$: WH-pronoun, possessive\n",
            "    whose\n",
            "None\n",
            "CC: conjunction, coordinating\n",
            "    & 'n and both but either et for less minus neither nor or plus so\n",
            "    therefore times v. versus vs. whether yet\n",
            "None\n",
            "No matching tags found.\n",
            "None\n",
            "TO: \"to\" as preposition or infinitive marker\n",
            "    to\n",
            "None\n",
            "No matching tags found.\n",
            "None\n",
            "FW: foreign word\n",
            "    gemeinschaft hund ich jeux habeas Haementeria Herr K'ang-si vous\n",
            "    lutihaw alai je jour objets salutaris fille quibusdam pas trop Monte\n",
            "    terram fiche oui corporis ...\n",
            "None\n",
            "No matching tags found.\n",
            "None\n",
            "VBP: verb, present tense, not 3rd person singular\n",
            "    predominate wrap resort sue twist spill cure lengthen brush terminate\n",
            "    appear tend stray glisten obtain comprise detest tease attract\n",
            "    emphasize mold postpone sever return wag ...\n",
            "None\n",
            "RBS: adverb, superlative\n",
            "    best biggest bluntest earliest farthest first furthest hardest\n",
            "    heartiest highest largest least less most nearest second tightest worst\n",
            "None\n",
            "LS: list item marker\n",
            "    A A. B B. C C. D E F First G H I J K One SP-44001 SP-44002 SP-44005\n",
            "    SP-44007 Second Third Three Two * a b c d first five four one six three\n",
            "    two\n",
            "None\n",
            "POS: genitive marker\n",
            "    ' 's\n",
            "None\n",
            "WRB: Wh-adverb\n",
            "    how however whence whenever where whereby whereever wherein whereof why\n",
            "None\n",
            "WP: WH-pronoun\n",
            "    that what whatever whatsoever which who whom whosoever\n",
            "None\n",
            "VBG: verb, present participle or gerund\n",
            "    telegraphing stirring focusing angering judging stalling lactating\n",
            "    hankerin' alleging veering capping approaching traveling besieging\n",
            "    encrypting interrupting erasing wincing ...\n",
            "None\n",
            "VBZ: verb, present tense, 3rd person singular\n",
            "    bases reconstructs marks mixes displeases seals carps weaves snatches\n",
            "    slumps stretches authorizes smolders pictures emerges stockpiles\n",
            "    seduces fizzes uses bolsters slaps speaks pleads ...\n",
            "None\n",
            ".: sentence terminator\n",
            "    . ! ?\n",
            "None\n",
            "PRP$: pronoun, possessive\n",
            "    her his mine my our ours their thy your\n",
            "None\n",
            "$: dollar\n",
            "    $ -$ --$ A$ C$ HK$ M$ NZ$ S$ U.S.$ US$\n",
            "None\n",
            "VBN: verb, past participle\n",
            "    multihulled dilapidated aerosolized chaired languished panelized used\n",
            "    experimented flourished imitated reunifed factored condensed sheared\n",
            "    unsettled primed dubbed desired ...\n",
            "None\n",
            "WDT: WH-determiner\n",
            "    that what whatever which whichever\n",
            "None\n",
            "MD: modal auxiliary\n",
            "    can cannot could couldn't dare may might must need ought shall should\n",
            "    shouldn't will would\n",
            "None\n",
            "NNP: noun, proper, singular\n",
            "    Motown Venneboerger Czestochwa Ranzer Conchita Trumplane Christos\n",
            "    Oceanside Escobar Kreisler Sawyer Cougar Yvette Ervin ODI Darryl CTCA\n",
            "    Shannon A.K.C. Meltex Liverpool ...\n",
            "None\n",
            "PRP: pronoun, personal\n",
            "    hers herself him himself hisself it itself me myself one oneself ours\n",
            "    ourselves ownself self she thee theirs them themselves they thou thy us\n",
            "None\n",
            "RBR: adverb, comparative\n",
            "    further gloomier grander graver greater grimmer harder harsher\n",
            "    healthier heavier higher however larger later leaner lengthier less-\n",
            "    perfectly lesser lonelier longer louder lower more ...\n",
            "None\n",
            "RP: particle\n",
            "    aboard about across along apart around aside at away back before behind\n",
            "    by crop down ever fast for forth from go high i.e. in into just later\n",
            "    low more off on open out over per pie raising start teeth that through\n",
            "    under unto up up-pp upon whole with you\n",
            "None\n",
            "CD: numeral, cardinal\n",
            "    mid-1890 nine-thirty forty-two one-tenth ten million 0.5 one forty-\n",
            "    seven 1987 twenty '79 zero two 78-degrees eighty-four IX '60s .025\n",
            "    fifteen 271,124 dozen quintillion DM2,000 ...\n",
            "None\n",
            "IN: preposition or conjunction, subordinating\n",
            "    astride among uppon whether out inside pro despite on by throughout\n",
            "    below within for towards near behind atop around if like until below\n",
            "    next into if beside ...\n",
            "None\n",
            "VB: verb, base form\n",
            "    ask assemble assess assign assume atone attention avoid bake balkanize\n",
            "    bank begin behold believe bend benefit bevel beware bless boil bomb\n",
            "    boost brace break bring broil brush build ...\n",
            "None\n",
            "NNS: noun, common, plural\n",
            "    undergraduates scotches bric-a-brac products bodyguards facets coasts\n",
            "    divestitures storehouses designs clubs fragrances averages\n",
            "    subjectivists apprehensions muses factory-jobs ...\n",
            "None\n",
            "RB: adverb\n",
            "    occasionally unabatingly maddeningly adventurously professedly\n",
            "    stirringly prominently technologically magisterially predominately\n",
            "    swiftly fiscally pitilessly ...\n",
            "None\n",
            "NNPS: noun, proper, plural\n",
            "    Americans Americas Amharas Amityvilles Amusements Anarcho-Syndicalists\n",
            "    Andalusians Andes Andruses Angels Animals Anthony Antilles Antiques\n",
            "    Apache Apaches Apocrypha ...\n",
            "None\n",
            "``: opening quotation mark\n",
            "    ` ``\n",
            "None\n",
            "JJ: adjective or numeral, ordinal\n",
            "    third ill-mannered pre-war regrettable oiled calamitous first separable\n",
            "    ectoplasmic battery-powered participatory fourth still-to-be-named\n",
            "    multilingual multi-disciplinary ...\n",
            "None\n",
            "VBD: verb, past tense\n",
            "    dipped pleaded swiped regummed soaked tidied convened halted registered\n",
            "    cushioned exacted snubbed strode aimed adopted belied figgered\n",
            "    speculated wore appreciated contemplated ...\n",
            "None\n",
            "'': closing quotation mark\n",
            "    ' ''\n",
            "None\n",
            "UH: interjection\n",
            "    Goodbye Goody Gosh Wow Jeepers Jee-sus Hubba Hey Kee-reist Oops amen\n",
            "    huh howdy uh dammit whammo shucks heck anyways whodunnit honey golly\n",
            "    man baby diddle hush sonuvabitch ...\n",
            "None\n",
            "SYM: symbol\n",
            "    % & ' '' ''. ) ). * + ,. < = > @ A[fj] U.S U.S.S.R * ** ***\n",
            "None\n",
            "EX: existential there\n",
            "    there\n",
            "None\n",
            "DT: determiner\n",
            "    all an another any both del each either every half la many much nary\n",
            "    neither no some such that the them these this those\n",
            "None\n",
            "NN: noun, common, singular or mass\n",
            "    common-carrier cabbage knuckle-duster Casino afghan shed thermostat\n",
            "    investment slide humour falloff slick wind hyena override subhumanity\n",
            "    machinist ...\n",
            "None\n",
            ":: colon or ellipsis\n",
            "    : ; ...\n",
            "None\n"
          ]
        }
      ]
    },
    {
      "cell_type": "code",
      "source": [
        "#universal tagset\n",
        "import nltk\n",
        "nltk.download('universal_tagset')\n",
        "nltk.download('treebank')\n",
        "nltk.download('punkt')\n",
        "nltk.download('tagsets_json')\n",
        "a= nltk.corpus.treebank.tagged_sents(tagset='universal')\n",
        "\n",
        "tags = set(tag for sent in a for token,tag in sent)\n",
        "print(tags)\n",
        "print(f\"No of tags = {len(tags)}\")\n"
      ],
      "metadata": {
        "colab": {
          "base_uri": "https://localhost:8080/"
        },
        "id": "KM7jjQw3k1qa",
        "outputId": "7510b028-f0c9-45b2-c467-37bf27c65e7a"
      },
      "execution_count": null,
      "outputs": [
        {
          "output_type": "stream",
          "name": "stderr",
          "text": [
            "[nltk_data] Downloading package universal_tagset to /root/nltk_data...\n",
            "[nltk_data]   Package universal_tagset is already up-to-date!\n",
            "[nltk_data] Downloading package treebank to /root/nltk_data...\n",
            "[nltk_data]   Package treebank is already up-to-date!\n",
            "[nltk_data] Downloading package punkt to /root/nltk_data...\n",
            "[nltk_data]   Package punkt is already up-to-date!\n",
            "[nltk_data] Downloading package tagsets_json to /root/nltk_data...\n",
            "[nltk_data]   Package tagsets_json is already up-to-date!\n"
          ]
        },
        {
          "output_type": "stream",
          "name": "stdout",
          "text": [
            "{'NUM', 'X', 'ADP', 'PRT', 'PRON', 'VERB', 'DET', 'ADJ', 'NOUN', 'ADV', '.', 'CONJ'}\n",
            "No of tags = 12\n"
          ]
        }
      ]
    },
    {
      "cell_type": "code",
      "source": [
        "import nltk\n",
        "nltk.download('universal_tagset')\n",
        "nltk.download('treebank')\n",
        "nltk.help.upenn_tagset('PRON')\n",
        "for tag in unique_tags:\n",
        "  print(nltk.help.upenn_tagset(tag))"
      ],
      "metadata": {
        "colab": {
          "base_uri": "https://localhost:8080/"
        },
        "id": "K17AR1zRq8lw",
        "outputId": "f68321af-577f-4f4e-8217-8935b92943ae"
      },
      "execution_count": null,
      "outputs": [
        {
          "output_type": "stream",
          "name": "stdout",
          "text": [
            "No matching tags found.\n",
            "VBP: verb, present tense, not 3rd person singular\n",
            "    predominate wrap resort sue twist spill cure lengthen brush terminate\n",
            "    appear tend stray glisten obtain comprise detest tease attract\n",
            "    emphasize mold postpone sever return wag ...\n",
            "None\n",
            "WP: WH-pronoun\n",
            "    that what whatever whatsoever which who whom whosoever\n",
            "None\n",
            "No matching tags found.\n",
            "None\n",
            "PDT: pre-determiner\n",
            "    all both half many quite such sure this\n",
            "None\n",
            "LS: list item marker\n",
            "    A A. B B. C C. D E F First G H I J K One SP-44001 SP-44002 SP-44005\n",
            "    SP-44007 Second Third Three Two * a b c d first five four one six three\n",
            "    two\n",
            "None\n",
            "WRB: Wh-adverb\n",
            "    how however whence whenever where whereby whereever wherein whereof why\n",
            "None\n",
            "CD: numeral, cardinal\n",
            "    mid-1890 nine-thirty forty-two one-tenth ten million 0.5 one forty-\n",
            "    seven 1987 twenty '79 zero two 78-degrees eighty-four IX '60s .025\n",
            "    fifteen 271,124 dozen quintillion DM2,000 ...\n",
            "None\n",
            "RBS: adverb, superlative\n",
            "    best biggest bluntest earliest farthest first furthest hardest\n",
            "    heartiest highest largest least less most nearest second tightest worst\n",
            "None\n",
            ".: sentence terminator\n",
            "    . ! ?\n",
            "None\n",
            "DT: determiner\n",
            "    all an another any both del each either every half la many much nary\n",
            "    neither no some such that the them these this those\n",
            "None\n",
            "VBZ: verb, present tense, 3rd person singular\n",
            "    bases reconstructs marks mixes displeases seals carps weaves snatches\n",
            "    slumps stretches authorizes smolders pictures emerges stockpiles\n",
            "    seduces fizzes uses bolsters slaps speaks pleads ...\n",
            "None\n",
            "POS: genitive marker\n",
            "    ' 's\n",
            "None\n",
            "EX: existential there\n",
            "    there\n",
            "None\n",
            "NNPS: noun, proper, plural\n",
            "    Americans Americas Amharas Amityvilles Amusements Anarcho-Syndicalists\n",
            "    Andalusians Andes Andruses Angels Animals Anthony Antilles Antiques\n",
            "    Apache Apaches Apocrypha ...\n",
            "None\n",
            "WDT: WH-determiner\n",
            "    that what whatever which whichever\n",
            "None\n",
            "RP: particle\n",
            "    aboard about across along apart around aside at away back before behind\n",
            "    by crop down ever fast for forth from go high i.e. in into just later\n",
            "    low more off on open out over per pie raising start teeth that through\n",
            "    under unto up up-pp upon whole with you\n",
            "None\n",
            "'': closing quotation mark\n",
            "    ' ''\n",
            "None\n",
            "VBD: verb, past tense\n",
            "    dipped pleaded swiped regummed soaked tidied convened halted registered\n",
            "    cushioned exacted snubbed strode aimed adopted belied figgered\n",
            "    speculated wore appreciated contemplated ...\n",
            "None\n",
            "PRP$: pronoun, possessive\n",
            "    her his mine my our ours their thy your\n",
            "None\n",
            "WP$: WH-pronoun, possessive\n",
            "    whose\n",
            "None\n",
            ",: comma\n",
            "    ,\n",
            "None\n",
            "NNS: noun, common, plural\n",
            "    undergraduates scotches bric-a-brac products bodyguards facets coasts\n",
            "    divestitures storehouses designs clubs fragrances averages\n",
            "    subjectivists apprehensions muses factory-jobs ...\n",
            "None\n",
            "VB: verb, base form\n",
            "    ask assemble assess assign assume atone attention avoid bake balkanize\n",
            "    bank begin behold believe bend benefit bevel beware bless boil bomb\n",
            "    boost brace break bring broil brush build ...\n",
            "None\n",
            "RB: adverb\n",
            "    occasionally unabatingly maddeningly adventurously professedly\n",
            "    stirringly prominently technologically magisterially predominately\n",
            "    swiftly fiscally pitilessly ...\n",
            "None\n",
            ":: colon or ellipsis\n",
            "    : ; ...\n",
            "None\n",
            "RBR: adverb, comparative\n",
            "    further gloomier grander graver greater grimmer harder harsher\n",
            "    healthier heavier higher however larger later leaner lengthier less-\n",
            "    perfectly lesser lonelier longer louder lower more ...\n",
            "None\n",
            "VBG: verb, present participle or gerund\n",
            "    telegraphing stirring focusing angering judging stalling lactating\n",
            "    hankerin' alleging veering capping approaching traveling besieging\n",
            "    encrypting interrupting erasing wincing ...\n",
            "None\n",
            "No matching tags found.\n",
            "None\n",
            "$: dollar\n",
            "    $ -$ --$ A$ C$ HK$ M$ NZ$ S$ U.S.$ US$\n",
            "None\n",
            "UH: interjection\n",
            "    Goodbye Goody Gosh Wow Jeepers Jee-sus Hubba Hey Kee-reist Oops amen\n",
            "    huh howdy uh dammit whammo shucks heck anyways whodunnit honey golly\n",
            "    man baby diddle hush sonuvabitch ...\n",
            "None\n",
            "``: opening quotation mark\n",
            "    ` ``\n",
            "None\n",
            "No matching tags found.\n",
            "None\n",
            "VBN: verb, past participle\n",
            "    multihulled dilapidated aerosolized chaired languished panelized used\n",
            "    experimented flourished imitated reunifed factored condensed sheared\n",
            "    unsettled primed dubbed desired ...\n",
            "None\n",
            "JJR: adjective, comparative\n",
            "    bleaker braver breezier briefer brighter brisker broader bumper busier\n",
            "    calmer cheaper choosier cleaner clearer closer colder commoner costlier\n",
            "    cozier creamier crunchier cuter ...\n",
            "None\n",
            "IN: preposition or conjunction, subordinating\n",
            "    astride among uppon whether out inside pro despite on by throughout\n",
            "    below within for towards near behind atop around if like until below\n",
            "    next into if beside ...\n",
            "None\n",
            "JJ: adjective or numeral, ordinal\n",
            "    third ill-mannered pre-war regrettable oiled calamitous first separable\n",
            "    ectoplasmic battery-powered participatory fourth still-to-be-named\n",
            "    multilingual multi-disciplinary ...\n",
            "None\n",
            "FW: foreign word\n",
            "    gemeinschaft hund ich jeux habeas Haementeria Herr K'ang-si vous\n",
            "    lutihaw alai je jour objets salutaris fille quibusdam pas trop Monte\n",
            "    terram fiche oui corporis ...\n",
            "None\n",
            "TO: \"to\" as preposition or infinitive marker\n",
            "    to\n",
            "None\n",
            "NNP: noun, proper, singular\n",
            "    Motown Venneboerger Czestochwa Ranzer Conchita Trumplane Christos\n",
            "    Oceanside Escobar Kreisler Sawyer Cougar Yvette Ervin ODI Darryl CTCA\n",
            "    Shannon A.K.C. Meltex Liverpool ...\n",
            "None\n",
            "MD: modal auxiliary\n",
            "    can cannot could couldn't dare may might must need ought shall should\n",
            "    shouldn't will would\n",
            "None\n",
            "JJS: adjective, superlative\n",
            "    calmest cheapest choicest classiest cleanest clearest closest commonest\n",
            "    corniest costliest crassest creepiest crudest cutest darkest deadliest\n",
            "    dearest deepest densest dinkiest ...\n",
            "None\n",
            "SYM: symbol\n",
            "    % & ' '' ''. ) ). * + ,. < = > @ A[fj] U.S U.S.S.R * ** ***\n",
            "None\n",
            "No matching tags found.\n",
            "None\n",
            "PRP: pronoun, personal\n",
            "    hers herself him himself hisself it itself me myself one oneself ours\n",
            "    ourselves ownself self she thee theirs them themselves they thou thy us\n",
            "None\n",
            "CC: conjunction, coordinating\n",
            "    & 'n and both but either et for less minus neither nor or plus so\n",
            "    therefore times v. versus vs. whether yet\n",
            "None\n",
            "NN: noun, common, singular or mass\n",
            "    common-carrier cabbage knuckle-duster Casino afghan shed thermostat\n",
            "    investment slide humour falloff slick wind hyena override subhumanity\n",
            "    machinist ...\n",
            "None\n"
          ]
        },
        {
          "output_type": "stream",
          "name": "stderr",
          "text": [
            "[nltk_data] Downloading package universal_tagset to /root/nltk_data...\n",
            "[nltk_data]   Package universal_tagset is already up-to-date!\n",
            "[nltk_data] Downloading package treebank to /root/nltk_data...\n",
            "[nltk_data]   Package treebank is already up-to-date!\n"
          ]
        }
      ]
    },
    {
      "cell_type": "code",
      "source": [
        "#display brown corpus tagset\n",
        "import nltk\n",
        "from nltk.corpus import brown\n",
        "nltk.download('brown')\n",
        "tagged_sents = brown.tagged_sents()\n",
        "unique_sents = set(tag for sent in tagged_sents for token,tag in sent)\n",
        "print(unique_sents)\n",
        "print(len(unique_sents))"
      ],
      "metadata": {
        "colab": {
          "base_uri": "https://localhost:8080/"
        },
        "id": "hksi1frSsPOm",
        "outputId": "8e84ab61-909b-4333-f95e-f106e2523260"
      },
      "execution_count": null,
      "outputs": [
        {
          "output_type": "stream",
          "name": "stderr",
          "text": [
            "[nltk_data] Downloading package brown to /root/nltk_data...\n",
            "[nltk_data]   Package brown is already up-to-date!\n"
          ]
        },
        {
          "output_type": "stream",
          "name": "stdout",
          "text": [
            "{'WPS+BEZ-NC', 'VB+PPO', 'NN+HVZ-TL', 'VB-NC', 'FW-PPSS+HV', 'FW-PPL', 'FW-OD-TL', 'PPSS-HL', 'CD', 'PPS-TL', 'WDT+BEZ-TL', 'BEM', 'VBZ', 'FW-NR', 'NPS', 'NP-TL', 'PPS+BEZ-NC', 'NPS$-HL', 'HVZ-TL', 'WDT+HVZ', 'CC-TL', 'VBD-HL', 'PN-HL', 'FW-IN+NP-TL', 'FW-WPO', 'FW-CD-TL', 'MD*', 'VBN', ',-NC', 'MD+TO', 'OD-NC', 'BED-NC', 'PN+MD', 'IN-TL', 'VBG-HL', 'JJ-TL-HL', 'NP$-HL', 'NR', 'EX+BEZ', 'AT-NC', 'RB$', 'PPSS+BER-N', ':-HL', 'AT-HL', 'ABL', 'PPL-TL', 'VBG-TL', 'PN$', 'RBR+CS', 'DOD', 'QL', 'NRS', 'NPS-TL', 'NN-NC', 'ABN', 'AP+AP-NC', 'PPSS-TL', 'NP+BEZ', 'NN+IN', 'WPS+MD', 'WPS+BEZ', 'VBD-NC', 'WDT+BEZ-HL', 'NR-HL', 'WQL', 'FW-PPL+VBZ', 'VBN-TL-NC', 'WRB+BEZ', 'AT-TL', 'DOZ*', 'PN-NC', 'DO-NC', 'DO*-HL', 'NN+MD', 'IN-HL', 'NP-HL', 'DTI-TL', 'FW-UH', 'WRB+BER', 'NN$', 'NN+NN-NC', 'FW-AT-HL', 'CD$', 'VB-HL', 'JJT-NC', 'NNS-HL', '``', 'HVD*', 'NR+MD', 'FW-CS', 'FW-JJ-NC', 'TO+VB', 'PPO', 'CS-HL', 'WPS+HVD', 'JJS', 'NN', 'FW-*', 'NN-HL', 'NN-TL-NC', 'FW-NN$-TL', 'DO', 'DTI-HL', 'FW-VB-NC', 'FW-NP-TL', 'FW-RB+CC', 'HV', 'BE', 'JJ-HL', 'PPSS-NC', 'NNS+MD', 'WDT-HL', 'FW-PP$-NC', 'BER-NC', 'EX+MD', 'VB+VB-NC', 'NNS-NC', 'ABX', 'IN', 'FW-NN-TL-NC', 'VBZ-TL', 'NNS$-TL', 'FW-NN$', 'FW-PP$-TL', 'FW-PPO', ')', 'FW-UH-TL', 'RN', 'FW-AT+NN-TL', 'VBD-TL', 'JJ+JJ-NC', 'BEZ', 'WPS-NC', 'WPS+HVZ', 'PPSS+BEZ*', 'BER*', 'FW-JJ-TL', 'FW-PP$', 'RP', 'WPS+BEZ-TL', 'ABN-TL', 'VB+RP', 'CD-HL', 'FW-NR-TL', 'PPSS+BER', 'BER*-NC', 'JJR+CS', 'EX-HL', ':', 'UH', 'PPSS+BER-TL', 'FW-DT', 'WRB+DOZ', 'HV-TL', 'DO+PPSS', 'NP$-TL', 'PPS-NC', 'JJR-NC', 'NR$-TL', 'NR-TL-HL', 'FW-VBG', 'FW-PPO+IN', 'CS-NC', 'WRB+DOD*', 'JJT-TL', 'VB+TO', 'FW-JJ', 'NP-NC', 'WDT+BER', 'NN-TL', 'HVG-HL', 'BEZ-NC', 'VBD', 'DOZ', 'AP-TL', 'NPS-NC', 'WRB-NC', 'PPL', 'PPSS+MD', 'PPSS+HV-TL', 'RB', 'VBN-TL', 'UH-NC', 'DOD*-TL', 'BER-TL', 'EX-NC', 'CS', 'PP$-HL', 'NP', '.', 'DT+BEZ', 'HV*', 'PPSS', 'NN$-TL', 'PN+BEZ', 'PN-TL', 'WDT', 'EX+HVD', 'BEN-TL', 'AP', '*', 'PPS+BEZ-HL', 'FW-CC', 'DT-NC', 'DTS+BEZ', 'PP$-NC', 'JJ', 'FW-VBD-TL', 'FW-PN', '*-TL', 'BED', 'CD-TL-HL', 'TO-NC', '(', 'CC-NC', 'NP$', 'JJ-NC', 'DT-TL', ')-HL', 'EX+HVZ', 'IN+IN', 'VB', 'QL-NC', 'VBG+TO', 'HVZ*', 'PPSS+VB', 'CD-NC', 'WRB+BEZ-TL', 'MD-TL', 'BEM-NC', 'VBG-NC', 'BEDZ-HL', 'WPS-TL', 'HVZ-NC', 'FW-BE', 'PPSS+HV', 'NNS-TL', 'CC-HL', 'BED*', 'JJS-TL', 'VB+IN', 'WRB-HL', 'AT-TL-HL', 'NR-TL', 'FW-NNS-NC', 'DTX', 'WPO-TL', 'FW-NPS', 'PP$', 'WDT+BEZ-NC', 'NNS-TL-HL', 'FW-VB', \"''\", 'FW-BER', 'RB-HL', 'PPSS+BEZ', 'FW-DTS', 'NPS$', 'HVD-HL', 'DTS', 'UH-TL', 'WPS', 'RP-TL', 'BER', 'PPS+BEZ', 'NN+BEZ', 'FW-WDT', 'NP+HVZ-NC', 'TO-HL', 'DTS-HL', ':-TL', 'FW-AT+NP-TL', 'HVD', '.-NC', 'NN$-HL', 'WRB+IN', 'FW-PPS', 'VB+JJ-NC', 'WRB-TL', 'FW-IN+AT', 'QL-HL', 'PPL-HL', 'FW-AT', 'VB-TL', 'BEZ-HL', 'DT$', 'VBZ-NC', '*-NC', 'DO-HL', 'RB-TL', 'FW-NN-TL', 'OD-HL', 'NRS-TL', 'MD+HV', 'AP-HL', 'NNS$-HL', 'VBZ-HL', 'DTI', 'DOD*', 'NP+MD', '.-TL', 'FW-IN+NN', 'MD-HL', 'NIL', 'PPSS+BER-NC', 'BEDZ*', 'DT+BEZ-NC', 'JJ-TL', 'JJR', 'BEZ-TL', 'JJS-HL', \"'\", 'BEZ*', 'FW-IN+AT-TL', 'FW-IN+AT-T', 'PPLS', 'JJT-HL', 'FW-VB-TL', 'FW-OD-NC', 'IN-TL-HL', 'BE-HL', 'PPS+MD', 'HVN', '.-HL', 'EX', 'NN+HVZ', 'BEM*', '---HL', 'MD-NC', 'FW-WPS', 'RB+BEZ', 'FW-CC-TL', 'RP-NC', 'DOZ-TL', 'VBN-HL', ',', 'IN+PPO', 'WDT+BER+PP', 'RBR', 'BEDZ', 'NP-TL-HL', '--', 'FW-NN-NC', 'HV+TO', 'TO-TL', 'NNS$-TL-HL', 'BEN', 'FW-VBN', 'JJ$-TL', 'CC-TL-HL', 'DT+MD', 'FW-NNS-TL', 'WQL-TL', 'FW-DT+BEZ', 'NP+HVZ', 'PPL-NC', 'OD-TL', 'DT-HL', 'FW-VBZ', 'HV-HL', 'WPO', 'BEDZ-NC', 'UH-HL', 'RB-NC', 'NPS$-TL', 'FW-QL', 'IN-NC', 'FW-CD', 'NP+BEZ-NC', 'PP$-TL', 'WRB+DO', 'CD-TL', 'TO', 'PPO-TL', 'FW-IN', 'DOD-NC', 'CS-TL', 'WDT+DO+PPS', 'CC', 'VBN-TL-HL', 'RB+BEZ-NC', 'HVG', 'FW-TO+VB', 'PN+HVD', 'QL-TL', 'VBN-NC', 'DT', 'BEG', 'WPS-HL', 'BER-HL', 'HV-NC', 'PPSS+BEM', 'JJR-HL', 'FW-BEZ', 'PPS', 'RP+IN', 'PPS+HVD', 'NNS', 'VB+AT', 'NN-TL-HL', 'PN', 'NNS-TL-NC', 'AP-NC', 'PPO-NC', 'AT', 'FW-HV', 'WDT-NC', 'PPSS+MD-NC', 'JJT', 'BE-TL', 'NNS$-NC', 'QLP', 'ABN-NC', 'JJ-TL-NC', 'NN+HVD-TL', 'FW-RB', 'PPSS+HVD', 'JJR-TL', 'NNS$', 'DO*', 'DOZ*-TL', 'NN+BEZ-TL', 'FW-AT-TL', '*-HL', 'FW-JJR', 'OD', 'NPS-HL', 'WRB+DOD', 'FW-NN', 'MD+PPSS', 'FW-JJT', 'WRB+MD', 'FW-PPSS', 'NR-NC', 'DOZ-HL', 'RBT', '(-HL', 'RP-HL', 'FW-RB-TL', 'WDT+BEZ', 'PPS-HL', 'HVZ', 'PN+HVZ', 'MD', 'AP$', 'WPO-NC', 'RB+CS', 'FW-IN+NN-TL', 'WRB', 'FW-VBD', 'WDT+DOD', 'RBR-NC', 'MD*-HL', 'FW-*-TL', 'ABN-HL', 'FW-UH-NC', 'RB+BEZ-HL', 'WP$', ',-TL', 'FW-IN-TL', 'DO-TL', 'PPO-HL', 'VBG', 'FW-NP', 'FW-VBG-TL', 'FW-NNS', 'PP$$', 'NR$', 'VBN+TO', 'PPS+HVZ', 'FW-NPS-TL', ',-HL'}\n",
            "472\n"
          ]
        }
      ]
    },
    {
      "cell_type": "code",
      "source": [
        "#Approaches for Pos_tagging\n",
        "#Rule based tags\n",
        "import nltk\n",
        "from nltk.tokenize import word_tokenize\n",
        "from nltk import pos_tag\n",
        "from nltk.tag import RegexpTagger\n",
        "nltk.download('punkt')\n",
        "sent = \"I am in the library\"\n",
        "tokens = word_tokenize(sent)\n",
        "print(tokens)\n",
        "patterns= [ (r'.*ed$', 'VBD'),\n",
        "                (r'.*es$', 'VBZ'),\n",
        "                (r'\\b(?:a|an|the)\\b', 'DT'),\n",
        "                (r'\\b(?:I|you|he|she|it|we|they)\\b', 'PRP'),\n",
        "                (r'\\b(?:quick|lazy|brown)\\b', 'JJ'),\n",
        "                 (r'\\b(?:fox|library)\\b', 'NN'),\n",
        "                 (r'\\b(?:jumps|runs|eats)\\b', 'VB'),\n",
        "                 (r'\\b(?:over)\\b', 'IN'),\n",
        "                 (r'\\b(?:.\\b)', '.') ]\n",
        "tagger =RegexpTagger(patterns)\n",
        "\n",
        "pos_tags = tagger.tag(tokens)\n",
        "print(pos_tags)\n"
      ],
      "metadata": {
        "colab": {
          "base_uri": "https://localhost:8080/"
        },
        "id": "eZ-iQdOGtc5b",
        "outputId": "7c7e72b3-3f16-4578-c35b-c3b09fc8726b"
      },
      "execution_count": null,
      "outputs": [
        {
          "output_type": "stream",
          "name": "stdout",
          "text": [
            "['I', 'am', 'in', 'the', 'library']\n",
            "[('I', 'PRP'), ('am', None), ('in', None), ('the', 'DT'), ('library', 'NN')]\n"
          ]
        },
        {
          "output_type": "stream",
          "name": "stderr",
          "text": [
            "[nltk_data] Downloading package punkt to /root/nltk_data...\n",
            "[nltk_data]   Package punkt is already up-to-date!\n"
          ]
        }
      ]
    },
    {
      "cell_type": "code",
      "source": [
        "#statistical tagging\n",
        "import nltk\n",
        "from nltk.corpus import treebank\n",
        "nltk.download('treebank')\n",
        "from nltk.tag import hmm\n",
        "from nltk.tokenize import word_tokenize\n",
        "#sttep 1 load the training data\n",
        "#step 2 train hmm tagger\n",
        "sent = treebank.tagged_sents()\n",
        "trainer = hmm.HiddenMarkovModelTagger\n",
        "hmm_tagger = trainer.train(sent)\n",
        "#step 3 tagging new sent\n",
        "sentence = \"I am in the library\"\n",
        "tokens = word_tokenize(sentence)\n",
        "tags = hmm_tagger.tag(tokens)\n",
        "print(tags)"
      ],
      "metadata": {
        "colab": {
          "base_uri": "https://localhost:8080/"
        },
        "id": "Oux7oA8bwvW6",
        "outputId": "d8fd345b-148a-42d4-e47f-aa43aa1dc609"
      },
      "execution_count": null,
      "outputs": [
        {
          "output_type": "stream",
          "name": "stderr",
          "text": [
            "[nltk_data] Downloading package treebank to /root/nltk_data...\n",
            "[nltk_data]   Package treebank is already up-to-date!\n"
          ]
        },
        {
          "output_type": "stream",
          "name": "stdout",
          "text": [
            "[('I', 'PRP'), ('am', 'VBP'), ('in', 'IN'), ('the', 'DT'), ('library', 'NN')]\n"
          ]
        }
      ]
    },
    {
      "cell_type": "code",
      "source": [],
      "metadata": {
        "id": "aDGBlv8j1TQS"
      },
      "execution_count": null,
      "outputs": []
    }
  ]
}